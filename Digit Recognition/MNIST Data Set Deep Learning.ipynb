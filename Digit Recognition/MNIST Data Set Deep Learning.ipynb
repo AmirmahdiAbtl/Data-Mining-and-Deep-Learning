{
 "cells": [
  {
   "cell_type": "markdown",
   "id": "e92cb37b",
   "metadata": {},
   "source": [
    "# Digit recognition with Tensorflow\n",
    "\n",
    "### The data set that used in this project is MNIST data set "
   ]
  },
  {
   "cell_type": "markdown",
   "id": "0e82b058",
   "metadata": {},
   "source": [
    "installing tensorflow at conda"
   ]
  },
  {
   "cell_type": "code",
   "execution_count": null,
   "id": "45477d95",
   "metadata": {},
   "outputs": [],
   "source": [
    "pip install tensorflow"
   ]
  },
  {
   "cell_type": "code",
   "execution_count": 1,
   "id": "16eef124",
   "metadata": {},
   "outputs": [],
   "source": [
    "import tensorflow as tf\n",
    "import pandas as pd\n",
    "import numpy as np\n",
    "import matplotlib.pyplot as plt"
   ]
  },
  {
   "cell_type": "markdown",
   "id": "f180ebfa",
   "metadata": {},
   "source": [
    "# Loading the mnist dataset\n",
    "\n",
    "loading our data set with keras tensorflow with following code box"
   ]
  },
  {
   "cell_type": "code",
   "execution_count": 4,
   "id": "e0e67587",
   "metadata": {},
   "outputs": [],
   "source": [
    "(x_train, y_train), (x_test, y_test) = tf.keras.datasets.mnist.load_data()"
   ]
  },
  {
   "cell_type": "markdown",
   "id": "dafc918e",
   "metadata": {},
   "source": [
    "## showing our data\n",
    "\n",
    "show our data with matplotlib librery and printing our data shapes.\n",
    "we have 28 * 28 images"
   ]
  },
  {
   "cell_type": "code",
   "execution_count": 8,
   "id": "efaae723",
   "metadata": {},
   "outputs": [
    {
     "name": "stdout",
     "output_type": "stream",
     "text": [
      "(28, 28)\n"
     ]
    },
    {
     "data": {
      "image/png": "[encoded data removed]",
      "text/plain": [
       "<Figure size 432x288 with 1 Axes>"
      ]
     },
     "metadata": {
      "needs_background": "light"
     },
     "output_type": "display_data"
    }
   ],
   "source": [
    "plt.imshow(x_train[1], cmap = plt.cm.binary)\n",
    "print(x_train[1].shape)"
   ]
  },
  {
   "cell_type": "markdown",
   "id": "17531b8b",
   "metadata": {},
   "source": [
    "Ok now we're printing one of the train data and we can see all of the nodes are between 0 until 255 "
   ]
  },
  {
   "cell_type": "code",
   "execution_count": 9,
   "id": "00221b7d",
   "metadata": {},
   "outputs": [
    {
     "name": "stdout",
     "output_type": "stream",
     "text": [
      "[[  0   0   0   0   0   0   0   0   0   0   0   0   0   0   0   0   0   0\n",
      "    0   0   0   0   0   0   0   0   0   0]\n",
      " [  0   0   0   0   0   0   0   0   0   0   0   0   0   0   0   0   0   0\n",
      "    0   0   0   0   0   0   0   0   0   0]\n",
      " [  0   0   0   0   0   0   0   0   0   0   0   0   0   0   0   0   0   0\n",
      "    0   0   0   0   0   0   0   0   0   0]\n",
      " [  0   0   0   0   0   0   0   0   0   0   0   0   0   0   0   0   0   0\n",
      "    0   0   0   0   0   0   0   0   0   0]\n",
      " [  0   0   0   0   0   0   0   0   0   0   0   0   0   0   0  51 159 253\n",
      "  159  50   0   0   0   0   0   0   0   0]\n",
      " [  0   0   0   0   0   0   0   0   0   0   0   0   0   0  48 238 252 252\n",
      "  252 237   0   0   0   0   0   0   0   0]\n",
      " [  0   0   0   0   0   0   0   0   0   0   0   0   0  54 227 253 252 239\n",
      "  233 252  57   6   0   0   0   0   0   0]\n",
      " [  0   0   0   0   0   0   0   0   0   0   0  10  60 224 252 253 252 202\n",
      "   84 252 253 122   0   0   0   0   0   0]\n",
      " [  0   0   0   0   0   0   0   0   0   0   0 163 252 252 252 253 252 252\n",
      "   96 189 253 167   0   0   0   0   0   0]\n",
      " [  0   0   0   0   0   0   0   0   0   0  51 238 253 253 190 114 253 228\n",
      "   47  79 255 168   0   0   0   0   0   0]\n",
      " [  0   0   0   0   0   0   0   0   0  48 238 252 252 179  12  75 121  21\n",
      "    0   0 253 243  50   0   0   0   0   0]\n",
      " [  0   0   0   0   0   0   0   0  38 165 253 233 208  84   0   0   0   0\n",
      "    0   0 253 252 165   0   0   0   0   0]\n",
      " [  0   0   0   0   0   0   0   7 178 252 240  71  19  28   0   0   0   0\n",
      "    0   0 253 252 195   0   0   0   0   0]\n",
      " [  0   0   0   0   0   0   0  57 252 252  63   0   0   0   0   0   0   0\n",
      "    0   0 253 252 195   0   0   0   0   0]\n",
      " [  0   0   0   0   0   0   0 198 253 190   0   0   0   0   0   0   0   0\n",
      "    0   0 255 253 196   0   0   0   0   0]\n",
      " [  0   0   0   0   0   0  76 246 252 112   0   0   0   0   0   0   0   0\n",
      "    0   0 253 252 148   0   0   0   0   0]\n",
      " [  0   0   0   0   0   0  85 252 230  25   0   0   0   0   0   0   0   0\n",
      "    7 135 253 186  12   0   0   0   0   0]\n",
      " [  0   0   0   0   0   0  85 252 223   0   0   0   0   0   0   0   0   7\n",
      "  131 252 225  71   0   0   0   0   0   0]\n",
      " [  0   0   0   0   0   0  85 252 145   0   0   0   0   0   0   0  48 165\n",
      "  252 173   0   0   0   0   0   0   0   0]\n",
      " [  0   0   0   0   0   0  86 253 225   0   0   0   0   0   0 114 238 253\n",
      "  162   0   0   0   0   0   0   0   0   0]\n",
      " [  0   0   0   0   0   0  85 252 249 146  48  29  85 178 225 253 223 167\n",
      "   56   0   0   0   0   0   0   0   0   0]\n",
      " [  0   0   0   0   0   0  85 252 252 252 229 215 252 252 252 196 130   0\n",
      "    0   0   0   0   0   0   0   0   0   0]\n",
      " [  0   0   0   0   0   0  28 199 252 252 253 252 252 233 145   0   0   0\n",
      "    0   0   0   0   0   0   0   0   0   0]\n",
      " [  0   0   0   0   0   0   0  25 128 252 253 252 141  37   0   0   0   0\n",
      "    0   0   0   0   0   0   0   0   0   0]\n",
      " [  0   0   0   0   0   0   0   0   0   0   0   0   0   0   0   0   0   0\n",
      "    0   0   0   0   0   0   0   0   0   0]\n",
      " [  0   0   0   0   0   0   0   0   0   0   0   0   0   0   0   0   0   0\n",
      "    0   0   0   0   0   0   0   0   0   0]\n",
      " [  0   0   0   0   0   0   0   0   0   0   0   0   0   0   0   0   0   0\n",
      "    0   0   0   0   0   0   0   0   0   0]\n",
      " [  0   0   0   0   0   0   0   0   0   0   0   0   0   0   0   0   0   0\n",
      "    0   0   0   0   0   0   0   0   0   0]]\n"
     ]
    }
   ],
   "source": [
    "print(x_train[1])"
   ]
  },
  {
   "cell_type": "markdown",
   "id": "0fd023aa",
   "metadata": {},
   "source": [
    "## Data Normalizing\n",
    "dividing all the elements of our matrix by 255 so now all the elements are between 0 to 1"
   ]
  },
  {
   "cell_type": "code",
   "execution_count": 11,
   "id": "f15eec45",
   "metadata": {},
   "outputs": [
    {
     "data": {
      "image/png": "[encoded data removed]",
      "text/plain": [
       "<Figure size 432x288 with 1 Axes>"
      ]
     },
     "metadata": {
      "needs_background": "light"
     },
     "output_type": "display_data"
    },
    {
     "name": "stdout",
     "output_type": "stream",
     "text": [
      "[[0.         0.         0.         0.         0.         0.\n",
      "  0.         0.         0.         0.         0.         0.\n",
      "  0.         0.         0.         0.         0.         0.\n",
      "  0.         0.         0.         0.         0.         0.\n",
      "  0.         0.         0.         0.        ]\n",
      " [0.         0.         0.         0.         0.         0.\n",
      "  0.         0.         0.         0.         0.         0.\n",
      "  0.         0.         0.         0.         0.         0.\n",
      "  0.         0.         0.         0.         0.         0.\n",
      "  0.         0.         0.         0.        ]\n",
      " [0.         0.         0.         0.         0.         0.\n",
      "  0.         0.         0.         0.         0.         0.\n",
      "  0.         0.         0.         0.         0.         0.\n",
      "  0.         0.         0.         0.         0.         0.\n",
      "  0.         0.         0.         0.        ]\n",
      " [0.         0.         0.         0.         0.         0.\n",
      "  0.         0.         0.         0.         0.         0.\n",
      "  0.         0.         0.         0.         0.         0.\n",
      "  0.         0.         0.         0.         0.         0.\n",
      "  0.         0.         0.         0.        ]\n",
      " [0.         0.         0.         0.         0.         0.\n",
      "  0.         0.         0.         0.         0.         0.\n",
      "  0.         0.         0.         0.08216044 0.2286589  0.3728098\n",
      "  0.30506548 0.08583808 0.         0.         0.         0.\n",
      "  0.         0.         0.         0.        ]\n",
      " [0.         0.         0.         0.         0.         0.\n",
      "  0.         0.         0.         0.         0.         0.\n",
      "  0.         0.         0.08087653 0.38341541 0.36240278 0.37133624\n",
      "  0.48350001 0.4068725  0.         0.         0.         0.\n",
      "  0.         0.         0.         0.        ]\n",
      " [0.         0.         0.         0.         0.         0.\n",
      "  0.         0.         0.         0.         0.         0.\n",
      "  0.         0.08861609 0.3824786  0.40758025 0.36240278 0.35218\n",
      "  0.44704564 0.43262392 0.06832372 0.00859123 0.         0.\n",
      "  0.         0.         0.         0.        ]\n",
      " [0.         0.         0.         0.         0.         0.\n",
      "  0.         0.         0.         0.         0.         0.01621743\n",
      "  0.095788   0.36759266 0.42460179 0.40758025 0.36240278 0.29765841\n",
      "  0.16116667 0.43262392 0.30326141 0.17468832 0.         0.\n",
      "  0.         0.         0.         0.        ]\n",
      " [0.         0.         0.         0.         0.         0.\n",
      "  0.         0.         0.         0.         0.         0.26434406\n",
      "  0.4023096  0.41354174 0.42460179 0.40758025 0.36240278 0.37133624\n",
      "  0.18419048 0.32446794 0.30326141 0.23912253 0.         0.\n",
      "  0.         0.         0.         0.        ]\n",
      " [0.         0.         0.         0.         0.         0.\n",
      "  0.         0.         0.         0.         0.08411834 0.38597476\n",
      "  0.40390606 0.41518278 0.32013627 0.18365276 0.36384089 0.33597088\n",
      "  0.09017659 0.13562417 0.30565873 0.2405544  0.         0.\n",
      "  0.         0.         0.         0.        ]\n",
      " [0.         0.         0.         0.         0.         0.\n",
      "  0.         0.         0.         0.07427511 0.39255225 0.40867916\n",
      "  0.4023096  0.29374592 0.02021913 0.12082418 0.17401086 0.03094469\n",
      "  0.         0.         0.30326141 0.34794476 0.12263192 0.\n",
      "  0.         0.         0.         0.        ]\n",
      " [0.         0.         0.         0.         0.         0.\n",
      "  0.         0.         0.04890249 0.2553207  0.41729294 0.37786605\n",
      "  0.33206506 0.13784725 0.         0.         0.         0.\n",
      "  0.         0.         0.30326141 0.36083161 0.40468535 0.\n",
      "  0.         0.         0.         0.        ]\n",
      " [0.         0.         0.         0.         0.         0.\n",
      "  0.         0.00966301 0.22906954 0.38994434 0.39585101 0.11514373\n",
      "  0.03033287 0.04594908 0.         0.         0.         0.\n",
      "  0.         0.         0.30326141 0.36083161 0.47826451 0.\n",
      "  0.         0.         0.         0.        ]\n",
      " [0.         0.         0.         0.         0.         0.\n",
      "  0.         0.07868449 0.32430069 0.38994434 0.10391089 0.\n",
      "  0.         0.         0.         0.         0.         0.\n",
      "  0.         0.         0.30326141 0.36083161 0.47826451 0.\n",
      "  0.         0.         0.         0.        ]\n",
      " [0.         0.         0.         0.         0.         0.\n",
      "  0.         0.27332506 0.3255876  0.29400565 0.         0.\n",
      "  0.         0.         0.         0.         0.         0.\n",
      "  0.         0.         0.30565873 0.36226348 0.48071715 0.\n",
      "  0.         0.         0.         0.        ]\n",
      " [0.         0.         0.         0.         0.         0.\n",
      "  0.33960736 0.33958568 0.32430069 0.17330859 0.         0.\n",
      "  0.         0.         0.         0.         0.         0.\n",
      "  0.         0.         0.30326141 0.36083161 0.3629905  0.\n",
      "  0.         0.         0.         0.        ]\n",
      " [0.         0.         0.         0.         0.         0.\n",
      "  0.37982402 0.34786826 0.29598873 0.03868495 0.         0.\n",
      "  0.         0.         0.         0.         0.         0.\n",
      "  0.01343056 0.23176282 0.30326141 0.26632809 0.02943166 0.\n",
      "  0.         0.         0.         0.        ]\n",
      " [0.         0.         0.         0.         0.         0.\n",
      "  0.37982402 0.34786826 0.28698037 0.         0.         0.\n",
      "  0.         0.         0.         0.         0.         0.0103149\n",
      "  0.25134326 0.43262392 0.26969888 0.10166287 0.         0.\n",
      "  0.         0.         0.         0.        ]\n",
      " [0.         0.         0.         0.         0.         0.\n",
      "  0.37982402 0.34786826 0.18660159 0.         0.         0.\n",
      "  0.         0.         0.         0.         0.0690291  0.24313682\n",
      "  0.48350001 0.29699976 0.         0.         0.         0.\n",
      "  0.         0.         0.         0.        ]\n",
      " [0.         0.         0.         0.         0.         0.\n",
      "  0.38429254 0.34924869 0.28955419 0.         0.         0.\n",
      "  0.         0.         0.         0.18365276 0.34226929 0.3728098\n",
      "  0.31082143 0.         0.         0.         0.         0.\n",
      "  0.         0.         0.         0.        ]\n",
      " [0.         0.         0.         0.         0.         0.\n",
      "  0.37982402 0.34786826 0.32043997 0.22592013 0.0791702  0.04703054\n",
      "  0.13569967 0.29210488 0.37910874 0.40758025 0.3206977  0.24608394\n",
      "  0.10744445 0.         0.         0.         0.         0.\n",
      "  0.         0.         0.         0.        ]\n",
      " [0.         0.         0.         0.         0.         0.\n",
      "  0.37982402 0.34786826 0.32430069 0.38994434 0.37770784 0.34867468\n",
      "  0.4023096  0.41354174 0.42460179 0.31575387 0.18695382 0.\n",
      "  0.         0.         0.         0.         0.         0.\n",
      "  0.         0.         0.         0.        ]\n",
      " [0.         0.         0.         0.         0.         0.\n",
      "  0.1251185  0.27470549 0.32430069 0.38994434 0.41729294 0.40867916\n",
      "  0.4023096  0.38236201 0.24431452 0.         0.         0.\n",
      "  0.         0.         0.         0.         0.         0.\n",
      "  0.         0.         0.         0.        ]\n",
      " [0.         0.         0.         0.         0.         0.\n",
      "  0.         0.03451074 0.16472416 0.38994434 0.41729294 0.40867916\n",
      "  0.2251018  0.06071843 0.         0.         0.         0.\n",
      "  0.         0.         0.         0.         0.         0.\n",
      "  0.         0.         0.         0.        ]\n",
      " [0.         0.         0.         0.         0.         0.\n",
      "  0.         0.         0.         0.         0.         0.\n",
      "  0.         0.         0.         0.         0.         0.\n",
      "  0.         0.         0.         0.         0.         0.\n",
      "  0.         0.         0.         0.        ]\n",
      " [0.         0.         0.         0.         0.         0.\n",
      "  0.         0.         0.         0.         0.         0.\n",
      "  0.         0.         0.         0.         0.         0.\n",
      "  0.         0.         0.         0.         0.         0.\n",
      "  0.         0.         0.         0.        ]\n",
      " [0.         0.         0.         0.         0.         0.\n",
      "  0.         0.         0.         0.         0.         0.\n",
      "  0.         0.         0.         0.         0.         0.\n",
      "  0.         0.         0.         0.         0.         0.\n",
      "  0.         0.         0.         0.        ]\n",
      " [0.         0.         0.         0.         0.         0.\n",
      "  0.         0.         0.         0.         0.         0.\n",
      "  0.         0.         0.         0.         0.         0.\n",
      "  0.         0.         0.         0.         0.         0.\n",
      "  0.         0.         0.         0.        ]]\n"
     ]
    }
   ],
   "source": [
    "x_train = tf.keras.utils.normalize(x_train, axis = 1)\n",
    "x_test = tf.keras.utils.normalize(x_test, axis = 1)\n",
    "plt.imshow(x_train[1], cmap = plt.cm.binary)\n",
    "plt.show()\n",
    "print(x_train[1])"
   ]
  },
  {
   "cell_type": "markdown",
   "id": "0878972f",
   "metadata": {},
   "source": [
    "## Augmentation\n",
    "\n",
    "this method create another picture that like our picture in the data set with another scale or zoom\n",
    "    so it help ous in modeling with highest accuracy and it Prevents overfiting"
   ]
  },
  {
   "cell_type": "code",
   "execution_count": 60,
   "id": "f41bb263",
   "metadata": {},
   "outputs": [],
   "source": [
    "data_augmentation = tf.keras.Sequential([\n",
    "    tf.keras.layers.experimental.preprocessing.RandomFlip('horizontal_and_vertical', input_shape=(28,28,3)),\n",
    "    tf.keras.layers.experimental.preprocessing.RandomRotation(0.2),\n",
    "    tf.keras.layers.experimental.preprocessing.RandomZoom(0.1),\n",
    "])"
   ]
  },
  {
   "cell_type": "markdown",
   "id": "d8065124",
   "metadata": {},
   "source": [
    "# Create Model\n",
    "+ 1 - at first we should flatten our data it means we should convert our 3D matrix (28 * 28 * 3) to vector like :(2352 * 1)\n",
    "+ 2 - now we adding another hidden layer with 256 node and set it activation function to ReLU\n",
    "+ 3 - the second hidden layer with 128 node and Relu\n",
    "+ 4 - the third hidden layer with 64 node and Relu\n",
    "+ 5 - the forth hidden layer with 32 node and Relu\n",
    "+ 6 - Finally we should add Dense layer for output layer with 10 node ( we have 10 class ) and set it layer activation funciton Softmax because we have multiclass Neural Network (if our data is binory we should using Sigmoid)\n",
    "\n",
    "## Compiling model\n",
    "and then compiling our model with \"sparse_categorical_crossentropy\" and adam optimizer"
   ]
  },
  {
   "cell_type": "code",
   "execution_count": 61,
   "id": "4c5561b6",
   "metadata": {},
   "outputs": [],
   "source": [
    "model = tf.keras.models.Sequential([\n",
    "    tf.keras.layers.Flatten(),\n",
    "    tf.keras.layers.Dense(256, activation = \"relu\"),\n",
    "    tf.keras.layers.Dense(128, activation = \"relu\"),\n",
    "    tf.keras.layers.Dense(64, activation = \"relu\"),\n",
    "    tf.keras.layers.Dense(32, activation = \"relu\"),\n",
    "    tf.keras.layers.Dense(10, activation = \"softmax\"),\n",
    "])\n",
    "model.compile(loss=\"sparse_categorical_crossentropy\", optimizer = \"adam\" , metrics = [\"accuracy\"])"
   ]
  },
  {
   "cell_type": "markdown",
   "id": "3b30eef3",
   "metadata": {},
   "source": [
    "## Model fitting\n",
    "Now our model is ready so we fit our model with train data and setting 20 eposch with 50 steps"
   ]
  },
  {
   "cell_type": "code",
   "execution_count": 62,
   "id": "9717b02f",
   "metadata": {},
   "outputs": [
    {
     "name": "stdout",
     "output_type": "stream",
     "text": [
      "Epoch 1/20\n",
      "50/50 [==============================] - 1s 10ms/step - loss: 0.9980 - accuracy: 0.7089\n",
      "Epoch 2/20\n",
      "50/50 [==============================] - 1s 10ms/step - loss: 0.2728 - accuracy: 0.9202\n",
      "Epoch 3/20\n",
      "50/50 [==============================] - 1s 10ms/step - loss: 0.1912 - accuracy: 0.9439\n",
      "Epoch 4/20\n",
      "50/50 [==============================] - 1s 10ms/step - loss: 0.1487 - accuracy: 0.9566\n",
      "Epoch 5/20\n",
      "50/50 [==============================] - 1s 10ms/step - loss: 0.1231 - accuracy: 0.9637\n",
      "Epoch 6/20\n",
      "50/50 [==============================] - 1s 10ms/step - loss: 0.1046 - accuracy: 0.9689\n",
      "Epoch 7/20\n",
      "50/50 [==============================] - 1s 10ms/step - loss: 0.0874 - accuracy: 0.9737\n",
      "Epoch 8/20\n",
      "50/50 [==============================] - 1s 10ms/step - loss: 0.0728 - accuracy: 0.9790\n",
      "Epoch 9/20\n",
      "50/50 [==============================] - 1s 10ms/step - loss: 0.0637 - accuracy: 0.9817\n",
      "Epoch 10/20\n",
      "50/50 [==============================] - 1s 10ms/step - loss: 0.0550 - accuracy: 0.9843\n",
      "Epoch 11/20\n",
      "50/50 [==============================] - 1s 13ms/step - loss: 0.0468 - accuracy: 0.9867\n",
      "Epoch 12/20\n",
      "50/50 [==============================] - 1s 11ms/step - loss: 0.0413 - accuracy: 0.9884\n",
      "Epoch 13/20\n",
      "50/50 [==============================] - 1s 11ms/step - loss: 0.0340 - accuracy: 0.9906\n",
      "Epoch 14/20\n",
      "50/50 [==============================] - 1s 11ms/step - loss: 0.0290 - accuracy: 0.9922\n",
      "Epoch 15/20\n",
      "50/50 [==============================] - 1s 11ms/step - loss: 0.0268 - accuracy: 0.9924\n",
      "Epoch 16/20\n",
      "50/50 [==============================] - 1s 11ms/step - loss: 0.0197 - accuracy: 0.9952\n",
      "Epoch 17/20\n",
      "50/50 [==============================] - 1s 10ms/step - loss: 0.0172 - accuracy: 0.9957\n",
      "Epoch 18/20\n",
      "50/50 [==============================] - 1s 11ms/step - loss: 0.0145 - accuracy: 0.9965\n",
      "Epoch 19/20\n",
      "50/50 [==============================] - 1s 14ms/step - loss: 0.0113 - accuracy: 0.9978\n",
      "Epoch 20/20\n",
      "50/50 [==============================] - 1s 11ms/step - loss: 0.0098 - accuracy: 0.9982\n"
     ]
    }
   ],
   "source": [
    "model_fit = model.fit(x_train,y_train,steps_per_epoch = 50, epochs = 20)"
   ]
  },
  {
   "cell_type": "markdown",
   "id": "532d7ccb",
   "metadata": {},
   "source": [
    "## Model Evaluation\n",
    "Now printing the loss and acc value of the model"
   ]
  },
  {
   "cell_type": "code",
   "execution_count": 63,
   "id": "bc2963f3",
   "metadata": {},
   "outputs": [
    {
     "name": "stdout",
     "output_type": "stream",
     "text": [
      "313/313 [==============================] - 0s 1ms/step - loss: 0.1053 - accuracy: 0.9745\n",
      "0.10533665865659714 0.9745000004768372\n"
     ]
    }
   ],
   "source": [
    "val_loss, val_acc = model.evaluate(x_test, y_test)\n",
    "print(val_loss, val_acc)"
   ]
  },
  {
   "cell_type": "markdown",
   "id": "345c1055",
   "metadata": {},
   "source": [
    "## saving the model\n",
    "\n",
    "save the model with \"digit_recognition_model\" because we need to saving model for predicting a new data"
   ]
  },
  {
   "cell_type": "code",
   "execution_count": 53,
   "id": "a57a1477",
   "metadata": {},
   "outputs": [
    {
     "name": "stdout",
     "output_type": "stream",
     "text": [
      "INFO:tensorflow:Assets written to: digit_recognition_model\\assets\n"
     ]
    }
   ],
   "source": [
    "model.save(\"digit_recognition_model\")\n",
    "NewModel = tf.keras.models.load_model(\"digit_recognition_model\")"
   ]
  },
  {
   "cell_type": "markdown",
   "id": "50c5237b",
   "metadata": {},
   "source": [
    "## Predicting test set"
   ]
  },
  {
   "cell_type": "code",
   "execution_count": 54,
   "id": "ac3dd2d8",
   "metadata": {},
   "outputs": [
    {
     "name": "stdout",
     "output_type": "stream",
     "text": [
      "313/313 [==============================] - 1s 3ms/step\n"
     ]
    }
   ],
   "source": [
    "predict = NewModel.predict([x_test])"
   ]
  },
  {
   "cell_type": "markdown",
   "id": "d5e51955",
   "metadata": {},
   "source": [
    "Yes i know it was so weird :)"
   ]
  },
  {
   "cell_type": "code",
   "execution_count": 55,
   "id": "10af2ba7",
   "metadata": {},
   "outputs": [
    {
     "name": "stdout",
     "output_type": "stream",
     "text": [
      "[[1.93063499e-09 6.88495749e-09 3.78128880e-06 ... 9.99993682e-01\n",
      "  6.20156981e-10 9.27398780e-09]\n",
      " [9.09730277e-12 6.11278165e-06 9.99993563e-01 ... 1.60137844e-07\n",
      "  1.77830239e-09 2.59524939e-16]\n",
      " [7.32138096e-06 9.99500632e-01 1.25211618e-05 ... 1.04016535e-05\n",
      "  4.32380679e-04 1.09351515e-06]\n",
      " ...\n",
      " [1.45124201e-12 5.47899087e-11 1.13437766e-11 ... 4.12324797e-09\n",
      "  7.66857852e-07 2.33966466e-06]\n",
      " [7.54055662e-09 2.72264961e-10 1.43401718e-12 ... 6.41222915e-14\n",
      "  4.94939650e-06 5.79787225e-11]\n",
      " [7.73815464e-06 1.01848858e-08 5.03349156e-07 ... 3.08075718e-11\n",
      "  1.56437530e-08 8.81518261e-11]]\n"
     ]
    }
   ],
   "source": [
    "print(predict)"
   ]
  },
  {
   "cell_type": "markdown",
   "id": "7ef644f4",
   "metadata": {},
   "source": [
    "# Result\n",
    "\n",
    "in the following block you can see accuracy of the model and it predicts all the 9 example"
   ]
  },
  {
   "cell_type": "code",
   "execution_count": 72,
   "id": "0e5734c3",
   "metadata": {},
   "outputs": [
    {
     "name": "stdout",
     "output_type": "stream",
     "text": [
      "7\n",
      "2\n",
      "1\n",
      "0\n",
      "4\n",
      "1\n",
      "4\n",
      "9\n",
      "5\n"
     ]
    },
    {
     "data": {
      "image/png": "[encoded data removed]",
      "text/plain": [
       "<Figure size 720x720 with 9 Axes>"
      ]
     },
     "metadata": {
      "needs_background": "light"
     },
     "output_type": "display_data"
    }
   ],
   "source": [
    "plt.figure(figsize=(10, 10))\n",
    "for i in range(9):\n",
    "  ax = plt.subplot(3, 3, i + 1)\n",
    "  plt.imshow(x_test[i])\n",
    "  plt.title([y_test[i]])\n",
    "  print(np.argmax(predict[i]))\n",
    "  plt.axis(\"off\")"
   ]
  }
 ],
 "metadata": {
  "kernelspec": {
   "display_name": "Python 3 (ipykernel)",
   "language": "python",
   "name": "python3"
  },
  "language_info": {
   "codemirror_mode": {
    "name": "ipython",
    "version": 3
   },
   "file_extension": ".py",
   "mimetype": "text/x-python",
   "name": "python",
   "nbconvert_exporter": "python",
   "pygments_lexer": "ipython3",
   "version": "3.9.7"
  }
 },
 "nbformat": 4,
 "nbformat_minor": 5
}
