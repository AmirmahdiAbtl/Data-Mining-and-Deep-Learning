{
 "cells": [
  {
   "cell_type": "markdown",
   "id": "46ff113f",
   "metadata": {},
   "source": [
    "### importing some important library"
   ]
  },
  {
   "cell_type": "code",
   "execution_count": 8,
   "id": "58e60bc3",
   "metadata": {},
   "outputs": [],
   "source": [
    "import numpy as np\n",
    "import pandas as pd\n",
    "import matplotlib.pyplot as plt\n",
    "import tensorflow as tf\n",
    "from tensorflow.keras.preprocessing import image\n",
    "from keras.preprocessing.image import ImageDataGenerator\n",
    "from tensorflow.keras.utils import img_to_array , load_img\n",
    "import cv2\n",
    "import matplotlib.image as mpimg\n",
    "from sklearn.metrics import f1_score\n",
    "from sklearn.metrics import accuracy_score\n",
    "import glob"
   ]
  },
  {
   "cell_type": "markdown",
   "id": "d8ce511b",
   "metadata": {},
   "source": [
    "# install the librery\n",
    "\n",
    "because we want to split our data to test and train set we should impliment a new librery\n",
    "split folders do this"
   ]
  },
  {
   "cell_type": "code",
   "execution_count": 21,
   "id": "31f01800",
   "metadata": {},
   "outputs": [
    {
     "name": "stdout",
     "output_type": "stream",
     "text": [
      "Collecting split-folders\n",
      "  Downloading split_folders-0.5.1-py3-none-any.whl (8.4 kB)\n",
      "Installing collected packages: split-folders\n",
      "Successfully installed split-folders-0.5.1\n",
      "Note: you may need to restart the kernel to use updated packages.\n"
     ]
    }
   ],
   "source": [
    "pip install split-folders"
   ]
  },
  {
   "cell_type": "code",
   "execution_count": 25,
   "id": "b17c29aa",
   "metadata": {},
   "outputs": [
    {
     "name": "stdout",
     "output_type": "stream",
     "text": [
      "Requirement already satisfied: split-folders[full] in c:\\users\\lenovo\\anaconda3\\lib\\site-packages (0.5.1)\n",
      "Requirement already satisfied: tqdm in c:\\users\\lenovo\\anaconda3\\lib\\site-packages (from split-folders[full]) (4.62.3)\n",
      "Requirement already satisfied: colorama in c:\\users\\lenovo\\anaconda3\\lib\\site-packages (from tqdm->split-folders[full]) (0.4.4)\n",
      "Note: you may need to restart the kernel to use updated packages.\n"
     ]
    }
   ],
   "source": [
    "pip install split-folders[full]"
   ]
  },
  {
   "cell_type": "code",
   "execution_count": 2,
   "id": "80ccdae4",
   "metadata": {},
   "outputs": [],
   "source": [
    "import splitfolders"
   ]
  },
  {
   "cell_type": "markdown",
   "id": "300dec19",
   "metadata": {},
   "source": [
    "# split data\n",
    "\n",
    "split all the images in DataSet folder and then save's them to NewDataset folder\n",
    "80% is train nad 20% is test"
   ]
  },
  {
   "cell_type": "code",
   "execution_count": 3,
   "id": "f68cf8f6",
   "metadata": {},
   "outputs": [
    {
     "name": "stderr",
     "output_type": "stream",
     "text": [
      "Copying files: 624 files [00:03, 170.87 files/s]\n"
     ]
    }
   ],
   "source": [
    "splitfolders.ratio(\"DataSet\", output=\"NewDataset\",\n",
    "    seed=1337, ratio=(.8, 0,.2), group_prefix=None, move=False)"
   ]
  },
  {
   "cell_type": "markdown",
   "id": "ead9dff0",
   "metadata": {},
   "source": [
    "# setting the File path"
   ]
  },
  {
   "cell_type": "code",
   "execution_count": 5,
   "id": "0ff84b2e",
   "metadata": {},
   "outputs": [],
   "source": [
    "test_path = \"NewDataset/test/\"\n",
    "train_path = \"NewDataset/train/\""
   ]
  },
  {
   "cell_type": "markdown",
   "id": "74c67e94",
   "metadata": {},
   "source": [
    "# Load a train image"
   ]
  },
  {
   "cell_type": "code",
   "execution_count": 6,
   "id": "f4ce237b",
   "metadata": {},
   "outputs": [
    {
     "data": {
      "image/png": "[encoded data removed]",
      "text/plain": [
       "<Figure size 432x288 with 1 Axes>"
      ]
     },
     "metadata": {
      "needs_background": "light"
     },
     "output_type": "display_data"
    }
   ],
   "source": [
    "img = image.load_img(train_path + \"Glasses/an2i_left_sad_sunglasses_4.pgm\")\n",
    "plt.imshow(img) \n",
    "plt.show()"
   ]
  },
  {
   "cell_type": "markdown",
   "id": "e3d76fcb",
   "metadata": {},
   "source": [
    "# Train set loading\n",
    "\n",
    "because of the data set images format we couldn't load data set with tensorflow and ... so i load it with pour python code with glob function and then i set the y train set of x with 1 = has sunglasses , 0 = hasn't sunglasses"
   ]
  },
  {
   "cell_type": "code",
   "execution_count": 9,
   "id": "e4af21ee",
   "metadata": {},
   "outputs": [],
   "source": [
    "Glass_train = glob.glob(\"NewDataset/train/Glasses/*\")\n",
    "NoGlass_train = glob.glob(\"NewDataset/train/NoGlasses/*\")\n",
    "train_x_path = Glass_train + NoGlass_train\n",
    "train_x = []\n",
    "train_y = np.empty(499)\n",
    "j = 0\n",
    "for i in train_x_path:\n",
    "    if j < 248:\n",
    "        train_y[j] = 1\n",
    "    else :\n",
    "        train_y[j] = 0\n",
    "    img = mpimg.imread(i)\n",
    "    train_x.append(img)\n",
    "    j+=1\n",
    "    "
   ]
  },
  {
   "cell_type": "markdown",
   "id": "3079a22a",
   "metadata": {},
   "source": [
    "# Test set loading\n"
   ]
  },
  {
   "cell_type": "code",
   "execution_count": 10,
   "id": "a272e59e",
   "metadata": {},
   "outputs": [],
   "source": [
    "Glass_test = glob.glob(\"NewDataset/test/Glasses/*\")\n",
    "NoGlass_test = glob.glob(\"NewDataset/test/NoGlasses/*\")\n",
    "test_x_path = Glass_test + NoGlass_test\n",
    "test_x = []\n",
    "test_y = np.empty(125)\n",
    "j = 0\n",
    "for i in test_x_path:\n",
    "    if j < 62:\n",
    "        test_y[j] = 1\n",
    "    else :\n",
    "        test_y[j] = 0\n",
    "    img = mpimg.imread(i)\n",
    "    test_x.append(img)\n",
    "    j+=1"
   ]
  },
  {
   "cell_type": "markdown",
   "id": "130b0ee1",
   "metadata": {},
   "source": [
    "# convert \n",
    "So after loading the data we know it shape is 30 * 32 and we have 499 images in train set and 125 images in test set\n",
    "All of them have list format so we convert it to array "
   ]
  },
  {
   "cell_type": "code",
   "execution_count": 11,
   "id": "ca1fd43d",
   "metadata": {},
   "outputs": [
    {
     "name": "stdout",
     "output_type": "stream",
     "text": [
      "(499, 30, 32)\n",
      "(499,)\n",
      "(125, 30, 32)\n",
      "(125,)\n"
     ]
    }
   ],
   "source": [
    "train_x = np.asarray(train_x)\n",
    "train_y = np.array(train_y)\n",
    "test_x = np.array(test_x)\n",
    "test_y = np.array(test_y)\n",
    "\n",
    "print(train_x.shape)\n",
    "print(train_y.shape)\n",
    "print(test_x.shape)\n",
    "print(test_y.shape)"
   ]
  },
  {
   "cell_type": "code",
   "execution_count": 12,
   "id": "c3674b51",
   "metadata": {},
   "outputs": [],
   "source": [
    "classes = ['Glasses',\"non-Glasses\"]"
   ]
  },
  {
   "cell_type": "markdown",
   "id": "57899898",
   "metadata": {},
   "source": [
    "# Reshapeing \n",
    "\n",
    "we have 3D array and its really hard for us because mlp can't work with 3D or higher dimentional array so we reshape it to 2D array "
   ]
  },
  {
   "cell_type": "code",
   "execution_count": 13,
   "id": "4568b8ac",
   "metadata": {},
   "outputs": [
    {
     "name": "stdout",
     "output_type": "stream",
     "text": [
      "train_set_x_flatten shape: (499, 960)\n",
      "train_set_y shape: (499,)\n",
      "test_set_x_flatten shape: (125, 960)\n",
      "test_set_y shape: (125,)\n"
     ]
    }
   ],
   "source": [
    "train_x_flatten = train_x.reshape(499,30*32)\n",
    "test_x_flatten = test_x.reshape(test_x.shape[0],test_x.shape[1]*test_x.shape[2])\n",
    "\n",
    "print (\"train_set_x_flatten shape: \" + str(train_x_flatten.shape))\n",
    "print (\"train_set_y shape: \" + str(train_y.shape))\n",
    "print (\"test_set_x_flatten shape: \" + str(test_x_flatten.shape))\n",
    "print (\"test_set_y shape: \" + str(test_y.shape))"
   ]
  },
  {
   "cell_type": "markdown",
   "id": "a4cd976b",
   "metadata": {},
   "source": [
    "# Modeling\n",
    "\n",
    "Now we can model our data with SKLearn librery \n",
    "+ hidden_layer_size :The ith element represents the number of neurons in the ith hidden layer. for example (10,10,10) it means we have 3 hidden layer and in each layer we have 10 nodes\n",
    "+ Max-iter :Maximum number of iterations.\n",
    "+ activation : {‘identity’, ‘logistic’, ‘tanh’, ‘relu’}, default=’relu’\n",
    "+ Learning_rate : alpha\n",
    "....."
   ]
  },
  {
   "cell_type": "code",
   "execution_count": 14,
   "id": "febf43ee",
   "metadata": {},
   "outputs": [
    {
     "data": {
      "text/plain": [
       "MLPClassifier(hidden_layer_sizes=(256, 128, 64, 32), learning_rate='adaptive',\n",
       "              max_iter=500)"
      ]
     },
     "execution_count": 14,
     "metadata": {},
     "output_type": "execute_result"
    }
   ],
   "source": [
    "from sklearn.neural_network import MLPClassifier\n",
    "mlp = MLPClassifier(hidden_layer_sizes = (256,128,64,32,),max_iter=500, activation='relu',learning_rate=\"adaptive\",solver=\"adam\")\n",
    "mlp"
   ]
  },
  {
   "cell_type": "code",
   "execution_count": 15,
   "id": "e5606a3f",
   "metadata": {},
   "outputs": [
    {
     "data": {
      "text/plain": [
       "MLPClassifier(hidden_layer_sizes=(256, 128, 64, 32), learning_rate='adaptive',\n",
       "              max_iter=500)"
      ]
     },
     "execution_count": 15,
     "metadata": {},
     "output_type": "execute_result"
    }
   ],
   "source": [
    "mlp.fit(train_x_flatten,train_y)"
   ]
  },
  {
   "cell_type": "code",
   "execution_count": 16,
   "id": "df923ec2",
   "metadata": {},
   "outputs": [
    {
     "data": {
      "text/plain": [
       "array([1., 1., 1., 1., 1., 1., 1., 1., 1., 1., 1., 1., 1., 1., 1., 1., 1.,\n",
       "       1., 1., 1., 1., 1., 1., 1., 1., 1., 1., 1., 1., 1., 1., 1., 1., 1.,\n",
       "       1., 1., 1., 1., 1., 1., 1., 1., 1., 1., 1., 1., 0., 1., 0., 1., 1.,\n",
       "       1., 1., 1., 1., 1., 1., 0., 1., 0., 1., 1., 0., 0., 1., 0., 0., 0.,\n",
       "       0., 0., 0., 0., 0., 0., 0., 0., 0., 0., 0., 0., 0., 0., 0., 0., 0.,\n",
       "       1., 0., 0., 1., 0., 0., 0., 0., 0., 0., 0., 0., 0., 0., 0., 0., 0.,\n",
       "       0., 0., 0., 0., 0., 0., 0., 0., 0., 0., 0., 1., 0., 0., 0., 0., 0.,\n",
       "       0., 0., 0., 0., 0., 0.])"
      ]
     },
     "execution_count": 16,
     "metadata": {},
     "output_type": "execute_result"
    }
   ],
   "source": [
    "pred = mlp.predict(test_x_flatten)\n",
    "pred"
   ]
  },
  {
   "cell_type": "code",
   "execution_count": 17,
   "id": "4283fd81",
   "metadata": {},
   "outputs": [
    {
     "name": "stdout",
     "output_type": "stream",
     "text": [
      "[1. 1. 1. 1. 1. 1. 1. 1. 1. 1. 1. 1. 1. 1. 1. 1. 1. 1. 1. 1. 1. 1. 1. 1.\n",
      " 1. 1. 1. 1. 1. 1. 1. 1. 1. 1. 1. 1. 1. 1. 1. 1. 1. 1. 1. 1. 1. 1. 1. 1.\n",
      " 1. 1. 1. 1. 1. 1. 1. 1. 1. 1. 1. 1. 1. 1. 0. 0. 0. 0. 0. 0. 0. 0. 0. 0.\n",
      " 0. 0. 0. 0. 0. 0. 0. 0. 0. 0. 0. 0. 0. 0. 0. 0. 0. 0. 0. 0. 0. 0. 0. 0.\n",
      " 0. 0. 0. 0. 0. 0. 0. 0. 0. 0. 0. 0. 0. 0. 0. 0. 0. 0. 0. 0. 0. 0. 0. 0.\n",
      " 0. 0. 0. 0. 0.]\n"
     ]
    }
   ],
   "source": [
    "print(test_y)"
   ]
  },
  {
   "cell_type": "code",
   "execution_count": 18,
   "id": "5a8bec9b",
   "metadata": {},
   "outputs": [
    {
     "name": "stdout",
     "output_type": "stream",
     "text": [
      "[[59  4]\n",
      " [ 4 58]]\n",
      "0.936\n"
     ]
    }
   ],
   "source": [
    "from sklearn.metrics import classification_report,confusion_matrix\n",
    "\n",
    "print(confusion_matrix(test_y,pred))\n",
    "print(accuracy_score(test_y, pred))"
   ]
  },
  {
   "cell_type": "code",
   "execution_count": 19,
   "id": "901bc295",
   "metadata": {},
   "outputs": [
    {
     "name": "stdout",
     "output_type": "stream",
     "text": [
      "              precision    recall  f1-score   support\n",
      "\n",
      "         0.0       0.94      0.94      0.94        63\n",
      "         1.0       0.94      0.94      0.94        62\n",
      "\n",
      "    accuracy                           0.94       125\n",
      "   macro avg       0.94      0.94      0.94       125\n",
      "weighted avg       0.94      0.94      0.94       125\n",
      "\n"
     ]
    }
   ],
   "source": [
    "print(classification_report(test_y,pred))"
   ]
  },
  {
   "cell_type": "markdown",
   "id": "0299a5dc",
   "metadata": {},
   "source": [
    "Now we check it for 2, 4, 10, 50 node in hidden layer so we can see the result"
   ]
  },
  {
   "cell_type": "code",
   "execution_count": 20,
   "id": "4e9f791d",
   "metadata": {},
   "outputs": [
    {
     "name": "stdout",
     "output_type": "stream",
     "text": [
      "with 2 element in hidden layer accuracy_score is :  0.496\n",
      "with 4 element in hidden layer accuracy_score is :  0.496\n",
      "with 10 element in hidden layer accuracy_score is :  0.8\n",
      "with 50 element in hidden layer accuracy_score is :  0.84\n"
     ]
    }
   ],
   "source": [
    "element_num = [2,4,10,50]\n",
    "for i in element_num:\n",
    "    testmlp = MLPClassifier(hidden_layer_sizes = (i,),max_iter=500, activation='relu',learning_rate=\"adaptive\",solver=\"adam\")\n",
    "    testmlp.fit(train_x_flatten,train_y)\n",
    "    pred_test = testmlp.predict(test_x_flatten)\n",
    "    print(\"with \" + str(i) +\" element in hidden layer accuracy_score is : \",accuracy_score(test_y, pred_test))"
   ]
  },
  {
   "cell_type": "markdown",
   "id": "097c882a",
   "metadata": {},
   "source": [
    "# 3 Layer (2 hidden ,1 output)"
   ]
  },
  {
   "cell_type": "code",
   "execution_count": 21,
   "id": "e39887df",
   "metadata": {},
   "outputs": [
    {
     "name": "stdout",
     "output_type": "stream",
     "text": [
      "0.912\n"
     ]
    }
   ],
   "source": [
    "Newmlp = MLPClassifier(hidden_layer_sizes = (100,100,),max_iter=500, activation='relu',learning_rate=\"adaptive\",solver=\"adam\")\n",
    "Newmlp.fit(train_x_flatten,train_y)\n",
    "Newpred = Newmlp.predict(test_x_flatten)\n",
    "print(accuracy_score(test_y, Newpred))"
   ]
  },
  {
   "cell_type": "markdown",
   "id": "72db3d20",
   "metadata": {},
   "source": [
    "# 4 Layer (3 hidden ,1 output)"
   ]
  },
  {
   "cell_type": "code",
   "execution_count": 22,
   "id": "5479e440",
   "metadata": {},
   "outputs": [
    {
     "name": "stdout",
     "output_type": "stream",
     "text": [
      "0.904\n"
     ]
    }
   ],
   "source": [
    "Newmlp = MLPClassifier(hidden_layer_sizes = (128,64,32,),max_iter=500, activation='relu',learning_rate=\"adaptive\",solver=\"adam\")\n",
    "Newmlp.fit(train_x_flatten,train_y)\n",
    "Newpred = Newmlp.predict(test_x_flatten)\n",
    "print(accuracy_score(test_y, Newpred))"
   ]
  },
  {
   "cell_type": "markdown",
   "id": "8c3d6509",
   "metadata": {},
   "source": [
    "# 5 Layer (4 hidden ,1 output)"
   ]
  },
  {
   "cell_type": "code",
   "execution_count": 23,
   "id": "e07e6812",
   "metadata": {},
   "outputs": [
    {
     "name": "stdout",
     "output_type": "stream",
     "text": [
      "0.952\n"
     ]
    }
   ],
   "source": [
    "Newmlp = MLPClassifier(hidden_layer_sizes = (256,128,64,32,),max_iter=500, activation='relu',learning_rate=\"adaptive\",solver=\"adam\")\n",
    "Newmlp.fit(train_x_flatten,train_y)\n",
    "Newpred = Newmlp.predict(test_x_flatten)\n",
    "print(accuracy_score(test_y, Newpred))"
   ]
  }
 ],
 "metadata": {
  "kernelspec": {
   "display_name": "Python 3 (ipykernel)",
   "language": "python",
   "name": "python3"
  },
  "language_info": {
   "codemirror_mode": {
    "name": "ipython",
    "version": 3
   },
   "file_extension": ".py",
   "mimetype": "text/x-python",
   "name": "python",
   "nbconvert_exporter": "python",
   "pygments_lexer": "ipython3",
   "version": "3.9.7"
  }
 },
 "nbformat": 4,
 "nbformat_minor": 5
}
