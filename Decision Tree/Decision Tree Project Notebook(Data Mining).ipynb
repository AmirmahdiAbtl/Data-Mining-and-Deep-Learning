{
 "cells": [
  {
   "cell_type": "markdown",
   "id": "4f0b4617",
   "metadata": {},
   "source": [
    "# Decision Tree\n",
    "\n",
    "#### Team members :\n",
    "* Amirmahdi Abootalebi\n",
    "* Ali Sheikh Atari\n",
    "* Amir Rahimi"
   ]
  },
  {
   "cell_type": "markdown",
   "id": "48da257d",
   "metadata": {},
   "source": [
    "Import the Following Libraries:\n",
    "\n",
    "<ul>\n",
    "    <li> <b>numpy (as np)</b> </li>\n",
    "    <li> <b>pandas</b> </li>\n",
    "    <li> <b>matplotlib</b></li>\n",
    "</ul>\n"
   ]
  },
  {
   "cell_type": "code",
   "execution_count": 1,
   "id": "5e394482",
   "metadata": {},
   "outputs": [],
   "source": [
    "import pandas as pd\n",
    "import numpy as np\n",
    "import matplotlib.pyplot as plt"
   ]
  },
  {
   "cell_type": "markdown",
   "id": "e4aac021",
   "metadata": {},
   "source": [
    "<h3 style=\"color: red;\"> Hint : </h3>\n",
    "\n",
    "* At the first this data set has .data format then we change it to csv file\n",
    "\n",
    "* Then we insert a attribute name row in line one"
   ]
  },
  {
   "cell_type": "markdown",
   "id": "0a9137a5",
   "metadata": {},
   "source": [
    "Now, read the data set with using pandas"
   ]
  },
  {
   "cell_type": "code",
   "execution_count": 2,
   "id": "4febaa5b",
   "metadata": {},
   "outputs": [],
   "source": [
    "df = pd.read_csv(\"car.csv\")"
   ]
  },
  {
   "cell_type": "markdown",
   "id": "e0eddd46",
   "metadata": {},
   "source": [
    "printing a some row of our data set"
   ]
  },
  {
   "cell_type": "code",
   "execution_count": 3,
   "id": "7378b266",
   "metadata": {},
   "outputs": [
    {
     "data": {
      "text/html": [
       "<div>\n",
       "<style scoped>\n",
       "    .dataframe tbody tr th:only-of-type {\n",
       "        vertical-align: middle;\n",
       "    }\n",
       "\n",
       "    .dataframe tbody tr th {\n",
       "        vertical-align: top;\n",
       "    }\n",
       "\n",
       "    .dataframe thead th {\n",
       "        text-align: right;\n",
       "    }\n",
       "</style>\n",
       "<table border=\"1\" class=\"dataframe\">\n",
       "  <thead>\n",
       "    <tr style=\"text-align: right;\">\n",
       "      <th></th>\n",
       "      <th>buying</th>\n",
       "      <th>maint</th>\n",
       "      <th>doors</th>\n",
       "      <th>persons</th>\n",
       "      <th>lug_boot</th>\n",
       "      <th>safety</th>\n",
       "      <th>target</th>\n",
       "    </tr>\n",
       "  </thead>\n",
       "  <tbody>\n",
       "    <tr>\n",
       "      <th>0</th>\n",
       "      <td>vhigh</td>\n",
       "      <td>vhigh</td>\n",
       "      <td>2</td>\n",
       "      <td>2</td>\n",
       "      <td>small</td>\n",
       "      <td>low</td>\n",
       "      <td>unacc</td>\n",
       "    </tr>\n",
       "    <tr>\n",
       "      <th>1</th>\n",
       "      <td>vhigh</td>\n",
       "      <td>vhigh</td>\n",
       "      <td>2</td>\n",
       "      <td>2</td>\n",
       "      <td>small</td>\n",
       "      <td>med</td>\n",
       "      <td>unacc</td>\n",
       "    </tr>\n",
       "    <tr>\n",
       "      <th>2</th>\n",
       "      <td>vhigh</td>\n",
       "      <td>vhigh</td>\n",
       "      <td>2</td>\n",
       "      <td>2</td>\n",
       "      <td>small</td>\n",
       "      <td>high</td>\n",
       "      <td>unacc</td>\n",
       "    </tr>\n",
       "    <tr>\n",
       "      <th>3</th>\n",
       "      <td>vhigh</td>\n",
       "      <td>vhigh</td>\n",
       "      <td>2</td>\n",
       "      <td>2</td>\n",
       "      <td>med</td>\n",
       "      <td>low</td>\n",
       "      <td>unacc</td>\n",
       "    </tr>\n",
       "    <tr>\n",
       "      <th>4</th>\n",
       "      <td>vhigh</td>\n",
       "      <td>vhigh</td>\n",
       "      <td>2</td>\n",
       "      <td>2</td>\n",
       "      <td>med</td>\n",
       "      <td>med</td>\n",
       "      <td>unacc</td>\n",
       "    </tr>\n",
       "  </tbody>\n",
       "</table>\n",
       "</div>"
      ],
      "text/plain": [
       "  buying  maint doors persons lug_boot safety target\n",
       "0  vhigh  vhigh     2       2    small    low  unacc\n",
       "1  vhigh  vhigh     2       2    small    med  unacc\n",
       "2  vhigh  vhigh     2       2    small   high  unacc\n",
       "3  vhigh  vhigh     2       2      med    low  unacc\n",
       "4  vhigh  vhigh     2       2      med    med  unacc"
      ]
     },
     "execution_count": 3,
     "metadata": {},
     "output_type": "execute_result"
    }
   ],
   "source": [
    "df.head()"
   ]
  },
  {
   "cell_type": "markdown",
   "id": "b528ba0f",
   "metadata": {},
   "source": [
    "## Data exploration\n",
    "\n",
    "Let's first have a descriptive exploration on our data."
   ]
  },
  {
   "cell_type": "code",
   "execution_count": 40,
   "id": "7118cfa8",
   "metadata": {},
   "outputs": [
    {
     "data": {
      "text/html": [
       "<div>\n",
       "<style scoped>\n",
       "    .dataframe tbody tr th:only-of-type {\n",
       "        vertical-align: middle;\n",
       "    }\n",
       "\n",
       "    .dataframe tbody tr th {\n",
       "        vertical-align: top;\n",
       "    }\n",
       "\n",
       "    .dataframe thead th {\n",
       "        text-align: right;\n",
       "    }\n",
       "</style>\n",
       "<table border=\"1\" class=\"dataframe\">\n",
       "  <thead>\n",
       "    <tr style=\"text-align: right;\">\n",
       "      <th></th>\n",
       "      <th>buying</th>\n",
       "      <th>maint</th>\n",
       "      <th>doors</th>\n",
       "      <th>persons</th>\n",
       "      <th>lug_boot</th>\n",
       "      <th>safety</th>\n",
       "      <th>target</th>\n",
       "    </tr>\n",
       "  </thead>\n",
       "  <tbody>\n",
       "    <tr>\n",
       "      <th>count</th>\n",
       "      <td>1728</td>\n",
       "      <td>1728</td>\n",
       "      <td>1728</td>\n",
       "      <td>1728</td>\n",
       "      <td>1728</td>\n",
       "      <td>1728</td>\n",
       "      <td>1728</td>\n",
       "    </tr>\n",
       "    <tr>\n",
       "      <th>unique</th>\n",
       "      <td>4</td>\n",
       "      <td>4</td>\n",
       "      <td>4</td>\n",
       "      <td>3</td>\n",
       "      <td>3</td>\n",
       "      <td>3</td>\n",
       "      <td>4</td>\n",
       "    </tr>\n",
       "    <tr>\n",
       "      <th>top</th>\n",
       "      <td>vhigh</td>\n",
       "      <td>vhigh</td>\n",
       "      <td>2</td>\n",
       "      <td>2</td>\n",
       "      <td>small</td>\n",
       "      <td>low</td>\n",
       "      <td>unacc</td>\n",
       "    </tr>\n",
       "    <tr>\n",
       "      <th>freq</th>\n",
       "      <td>432</td>\n",
       "      <td>432</td>\n",
       "      <td>432</td>\n",
       "      <td>576</td>\n",
       "      <td>576</td>\n",
       "      <td>576</td>\n",
       "      <td>1210</td>\n",
       "    </tr>\n",
       "  </tbody>\n",
       "</table>\n",
       "</div>"
      ],
      "text/plain": [
       "       buying  maint doors persons lug_boot safety target\n",
       "count    1728   1728  1728    1728     1728   1728   1728\n",
       "unique      4      4     4       3        3      3      4\n",
       "top     vhigh  vhigh     2       2    small    low  unacc\n",
       "freq      432    432   432     576      576    576   1210"
      ]
     },
     "execution_count": 40,
     "metadata": {},
     "output_type": "execute_result"
    }
   ],
   "source": [
    "df.describe()"
   ]
  },
  {
   "cell_type": "markdown",
   "id": "d469da76",
   "metadata": {},
   "source": [
    "## Data Size\n"
   ]
  },
  {
   "cell_type": "code",
   "execution_count": 4,
   "id": "07606c2a",
   "metadata": {},
   "outputs": [
    {
     "data": {
      "text/plain": [
       "(1728, 7)"
      ]
     },
     "execution_count": 4,
     "metadata": {},
     "output_type": "execute_result"
    }
   ],
   "source": [
    "df.shape"
   ]
  },
  {
   "cell_type": "markdown",
   "id": "a2dfbcac",
   "metadata": {},
   "source": [
    "Using <b>df</b> as the car.csv data read by pandas, declare the following variables: <br>\n",
    "\n",
    "<ul>\n",
    "    <li> <b> X </b> as the <b> Feature Matrix </b> (data of df) </li>\n",
    "    <li> <b> Y </b> as the <b> response vector </b> (target) </li>\n",
    "</ul>\n"
   ]
  },
  {
   "cell_type": "code",
   "execution_count": 6,
   "id": "d95715c4",
   "metadata": {},
   "outputs": [
    {
     "data": {
      "text/plain": [
       "array([['vhigh', 'vhigh', '2', '2', 'small', 'low'],\n",
       "       ['vhigh', 'vhigh', '2', '2', 'small', 'med'],\n",
       "       ['vhigh', 'vhigh', '2', '2', 'small', 'high'],\n",
       "       ['vhigh', 'vhigh', '2', '2', 'med', 'low'],\n",
       "       ['vhigh', 'vhigh', '2', '2', 'med', 'med']], dtype=object)"
      ]
     },
     "execution_count": 6,
     "metadata": {},
     "output_type": "execute_result"
    }
   ],
   "source": [
    "X = df[[\"buying\", \"maint\", \"doors\", \"persons\", \"lug_boot\",\"safety\"]].values\n",
    "X[:5]"
   ]
  },
  {
   "cell_type": "markdown",
   "id": "35f8588b",
   "metadata": {},
   "source": [
    "All features in this dataset are categorical. Unfortunately, Sklearn Decision Trees does not handle categorical variables. We can still convert these features to numerical values using LabelEncoder() function in preprocessing librery of the sklearn\n",
    "for example in label_buying we fit four value ['vhigh', \"high\", \"med\", \"low\"] to [3, 2, 1, 0] it means when we have a vhigh in some row it convert to 3 ..."
   ]
  },
  {
   "cell_type": "code",
   "execution_count": 7,
   "id": "d232575e",
   "metadata": {},
   "outputs": [
    {
     "data": {
      "text/plain": [
       "array([[3, 3, 0, 0, 2, 1],\n",
       "       [3, 3, 0, 0, 2, 2],\n",
       "       [3, 3, 0, 0, 2, 0],\n",
       "       ...,\n",
       "       [1, 1, 3, 2, 0, 1],\n",
       "       [1, 1, 3, 2, 0, 2],\n",
       "       [1, 1, 3, 2, 0, 0]], dtype=object)"
      ]
     },
     "execution_count": 7,
     "metadata": {},
     "output_type": "execute_result"
    }
   ],
   "source": [
    "from sklearn import preprocessing\n",
    "\n",
    "label_buying = preprocessing.LabelEncoder()\n",
    "label_buying.fit(['vhigh', \"high\", \"med\", \"low\"])\n",
    "X[:,0] = label_buying.transform(X[:,0])\n",
    "X[:,1] = label_buying.transform(X[:,1])\n",
    "\n",
    "label_doors = preprocessing.LabelEncoder()\n",
    "label_doors.fit(['2','3','4','5more'])\n",
    "X[:,2] = label_doors.transform(X[:,2])\n",
    "\n",
    "label_persons = preprocessing.LabelEncoder()\n",
    "label_persons.fit(['2','4','more'])\n",
    "X[:,3] = label_persons.transform(X[:,3])\n",
    "\n",
    "label_lug_boot = preprocessing.LabelEncoder()\n",
    "label_lug_boot.fit([\"small\", \"med\", \"big\"])\n",
    "X[:,4] = label_lug_boot.transform(X[:,4])\n",
    "\n",
    "label_safety = preprocessing.LabelEncoder()\n",
    "label_safety.fit([\"low\",\"med\",\"high\"])\n",
    "X[:,5] = label_safety.transform(X[:,5])\n",
    "\n",
    "X[:]"
   ]
  },
  {
   "cell_type": "markdown",
   "id": "8d81a3ee",
   "metadata": {},
   "source": [
    "Now we can fill the target variable"
   ]
  },
  {
   "cell_type": "code",
   "execution_count": 8,
   "id": "d337031a",
   "metadata": {},
   "outputs": [
    {
     "data": {
      "text/plain": [
       "unacc    1210\n",
       "acc       384\n",
       "good       69\n",
       "vgood      65\n",
       "Name: target, dtype: int64"
      ]
     },
     "execution_count": 8,
     "metadata": {},
     "output_type": "execute_result"
    }
   ],
   "source": [
    "Y = df[\"target\"]\n",
    "Y.value_counts()"
   ]
  },
  {
   "cell_type": "markdown",
   "id": "2f759c36",
   "metadata": {},
   "source": [
    "<hr>\n",
    "\n",
    "<div id=\"setting_up_tree\">\n",
    "    <h2>Setting up the Decision Tree</h2>\n",
    "    We will be using <b>train/test split</b> on our <b>decision tree</b>. Let's import <b>train_test_split</b> from <b>sklearn.cross_validation</b>.\n",
    "</div>\n"
   ]
  },
  {
   "cell_type": "markdown",
   "id": "8a884e94",
   "metadata": {},
   "source": [
    "Now <b> train_test_split </b> will return 4 different parameters. We will name them:<br>\n",
    "train_x, test_x, train_y, test_y <br> <br>\n",
    "The <b> train_test_split </b> will need the parameters: <br>\n",
    "X, Y, test_size=0.2, and random_state=3. <br> <br>\n",
    "The <b>X</b> and <b>y</b> are the arrays required before the split, the <b>test_size</b> represents the ratio of the testing dataset, and the <b>random_state</b> ensures that we obtain the same splits.\n"
   ]
  },
  {
   "cell_type": "code",
   "execution_count": 9,
   "id": "1c7dc6fc",
   "metadata": {},
   "outputs": [],
   "source": [
    "from sklearn.model_selection import train_test_split\n",
    "train_x, test_x, train_y, test_y = train_test_split(X, Y, test_size = 0.2, random_state=3)"
   ]
  },
  {
   "cell_type": "markdown",
   "id": "c72466c8",
   "metadata": {},
   "source": [
    "<hr>\n",
    "\n",
    "<div id=\"modeling\">\n",
    "    <h2>Modeling</h2>\n",
    "    We will first create an instance of the <b>DecisionTreeClassifier</b> called <b>Tree</b>.<br>\n",
    "    Inside of the classifier, specify <i> criterion=\"entropy\" </i> so we can see the information gain of each node.\n",
    "</div>\n"
   ]
  },
  {
   "cell_type": "code",
   "execution_count": 10,
   "id": "2e657ee6",
   "metadata": {},
   "outputs": [],
   "source": [
    "from sklearn.tree import DecisionTreeClassifier\n",
    "Tree = DecisionTreeClassifier(criterion=\"entropy\", max_depth=5)"
   ]
  },
  {
   "cell_type": "markdown",
   "id": "1b26913f",
   "metadata": {},
   "source": [
    "Next, we will fit the data with the training feature matrix <b> train_x </b> and training  response vector <b> train_y </b>\n"
   ]
  },
  {
   "cell_type": "code",
   "execution_count": 12,
   "id": "2436b029",
   "metadata": {},
   "outputs": [
    {
     "data": {
      "text/plain": [
       "DecisionTreeClassifier(criterion='entropy', max_depth=5)"
      ]
     },
     "execution_count": 12,
     "metadata": {},
     "output_type": "execute_result"
    }
   ],
   "source": [
    "Tree.fit(train_x, train_y)"
   ]
  },
  {
   "cell_type": "markdown",
   "id": "02499231",
   "metadata": {},
   "source": [
    "<hr>\n",
    "\n",
    "<div id=\"prediction\">\n",
    "    <h2>Prediction</h2>\n",
    "    Let's make some <b>predictions</b> on the testing dataset and store it into a variable called <b>predict_model</b>.\n",
    "</div>\n"
   ]
  },
  {
   "cell_type": "code",
   "execution_count": 13,
   "id": "28c83615",
   "metadata": {},
   "outputs": [],
   "source": [
    "predict_model = Tree.predict(test_x)"
   ]
  },
  {
   "cell_type": "markdown",
   "id": "7130fcad",
   "metadata": {},
   "source": [
    "You can print out <b>predict_model</b> and <b>test_y</b> if you want to visually compare the predictions to the actual values."
   ]
  },
  {
   "cell_type": "code",
   "execution_count": 14,
   "id": "9d9b9474",
   "metadata": {},
   "outputs": [
    {
     "name": "stdout",
     "output_type": "stream",
     "text": [
      "['acc' 'unacc' 'unacc' 'acc' 'vgood']\n",
      "350       acc\n",
      "112     unacc\n",
      "1011    unacc\n",
      "715       acc\n",
      "1280     good\n",
      "Name: target, dtype: object\n"
     ]
    }
   ],
   "source": [
    "print(predict_model[:5])\n",
    "print(test_y[:5])"
   ]
  },
  {
   "cell_type": "markdown",
   "id": "5be4d058",
   "metadata": {},
   "source": [
    "<hr>\n",
    "\n",
    "<div id=\"evaluation\">\n",
    "    <h2>Evaluation</h2>\n",
    "    Next, let's import <b>metrics</b> from sklearn and check the accuracy of our model.\n",
    "</div>\n"
   ]
  },
  {
   "cell_type": "code",
   "execution_count": 15,
   "id": "2663bf0a",
   "metadata": {},
   "outputs": [
    {
     "name": "stdout",
     "output_type": "stream",
     "text": [
      "0.8757225433526011\n"
     ]
    }
   ],
   "source": [
    "from sklearn.metrics import accuracy_score\n",
    "first_depth_accuracy = accuracy_score(test_y, predict_model)\n",
    "print(first_depth_accuracy)"
   ]
  },
  {
   "cell_type": "markdown",
   "id": "53b54d2f",
   "metadata": {},
   "source": [
    "## cross validation with KFold\n",
    "\n",
    "importing cross_val_score from sklearn.model_selection and looping on 25 number for finding the best depth for this model"
   ]
  },
  {
   "cell_type": "code",
   "execution_count": 16,
   "id": "bfc42d35",
   "metadata": {},
   "outputs": [],
   "source": [
    "from sklearn.model_selection import cross_val_score"
   ]
  },
  {
   "cell_type": "markdown",
   "id": "ccd5290a",
   "metadata": {},
   "source": [
    "<p> <a href=\"https://towardsdatascience.com/how-to-find-decision-tree-depth-via-cross-validation-2bf143f0f3d6\">this site</a> help us to cross validating with Kfold algorithm </p>"
   ]
  },
  {
   "cell_type": "code",
   "execution_count": 17,
   "id": "fc5dbc15",
   "metadata": {},
   "outputs": [],
   "source": [
    "def crossValidation_KFold(X, Y, cv=5, scoring='accuracy'):\n",
    "    List, std, mean, accuracy = [], [], [], []\n",
    "    \n",
    "    for depth in range(1,25):\n",
    "        tree_model = DecisionTreeClassifier(max_depth=depth)\n",
    "        cross_val = cross_val_score(tree_model, X, Y, cv=cv, scoring=scoring)\n",
    "        List.append(cross_val)\n",
    "        mean.append(cross_val.mean())\n",
    "        std.append(cross_val.std())\n",
    "        accuracy.append(tree_model.fit(X, Y).score(X, Y))\n",
    "        \n",
    "    mean = np.array(mean)\n",
    "    std = np.array(std)\n",
    "    accuracy = np.array(accuracy)\n",
    "    \n",
    "    return mean, std, accuracy"
   ]
  },
  {
   "cell_type": "code",
   "execution_count": 18,
   "id": "345819cb",
   "metadata": {},
   "outputs": [],
   "source": [
    "kfold_mean, kfold_std, kfold_accuracy = crossValidation_KFold(train_x, train_y)\n",
    "depth = range(1,25)\n",
    "idx_max = kfold_mean.argmax()\n",
    "best_depth = depth[idx_max]\n",
    "best_std_score = kfold_std[idx_max]\n",
    "best_mean_score = kfold_mean[idx_max]"
   ]
  },
  {
   "cell_type": "code",
   "execution_count": 19,
   "id": "fc4644b2",
   "metadata": {},
   "outputs": [
    {
     "name": "stdout",
     "output_type": "stream",
     "text": [
      "The best depth is :  14\n",
      "With this mean score :  0.9688824360382986\n"
     ]
    }
   ],
   "source": [
    "print(\"The best depth is : \",best_depth)\n",
    "print(\"With this mean score : \", best_mean_score)"
   ]
  },
  {
   "cell_type": "markdown",
   "id": "239f60f2",
   "metadata": {},
   "source": [
    "# comparing first and best depth"
   ]
  },
  {
   "cell_type": "code",
   "execution_count": 20,
   "id": "2c48db56",
   "metadata": {},
   "outputs": [
    {
     "name": "stdout",
     "output_type": "stream",
     "text": [
      "The first depth is : 5  with :  0.8757225433526011  accuracy\n",
      "The optimal depth is :  14  with :  0.9688824360382986  accuracy\n"
     ]
    }
   ],
   "source": [
    "print(\"The first depth is : 5 \", \"with : \", first_depth_accuracy, \" accuracy\")\n",
    "print(\"The optimal depth is : \" , best_depth, \" with : \", best_mean_score, \" accuracy\")"
   ]
  },
  {
   "cell_type": "code",
   "execution_count": null,
   "id": "8ab9d44c",
   "metadata": {},
   "outputs": [],
   "source": []
  }
 ],
 "metadata": {
  "kernelspec": {
   "display_name": "Python 3 (ipykernel)",
   "language": "python",
   "name": "python3"
  },
  "language_info": {
   "codemirror_mode": {
    "name": "ipython",
    "version": 3
   },
   "file_extension": ".py",
   "mimetype": "text/x-python",
   "name": "python",
   "nbconvert_exporter": "python",
   "pygments_lexer": "ipython3",
   "version": "3.9.7"
  }
 },
 "nbformat": 4,
 "nbformat_minor": 5
}
